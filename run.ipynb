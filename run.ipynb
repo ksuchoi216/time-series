{
 "cells": [
  {
   "cell_type": "code",
   "execution_count": 2,
   "metadata": {},
   "outputs": [
    {
     "name": "stdout",
     "output_type": "stream",
     "text": [
      "The autoreload extension is already loaded. To reload it, use:\n",
      "  %reload_ext autoreload\n"
     ]
    }
   ],
   "source": [
    "import random\n",
    "# import mlflow\n",
    "import matplotlib.pyplot as plt\n",
    "import seaborn as sns\n",
    "import pandas as pd\n",
    "import numpy as np\n",
    "import inspect \n",
    "import sys\n",
    "import os\n",
    "import time\n",
    "import json\n",
    "import copy\n",
    "import re\n",
    "import warnings\n",
    "from pprint import pprint\n",
    "import torch\n",
    "# import tensorflow as tf\n",
    "import scipy.signal as sn\n",
    "from types import SimpleNamespace\n",
    "\n",
    "%load_ext autoreload\n",
    "%autoreload 2\n",
    "%matplotlib inline\n",
    "warnings.filterwarnings('ignore')\n",
    "plt.rcParams['figure.figsize'] = (20, 6)\n",
    "# pd.reset_option('vdisplay.')\n"
   ]
  },
  {
   "cell_type": "code",
   "execution_count": 1,
   "metadata": {},
   "outputs": [
    {
     "ename": "ModuleNotFoundError",
     "evalue": "No module named 'easydict'",
     "output_type": "error",
     "traceback": [
      "\u001b[0;31m---------------------------------------------------------------------------\u001b[0m",
      "\u001b[0;31mModuleNotFoundError\u001b[0m                       Traceback (most recent call last)",
      "Cell \u001b[0;32mIn[1], line 1\u001b[0m\n\u001b[0;32m----> 1\u001b[0m \u001b[38;5;28;01mfrom\u001b[39;00m \u001b[38;5;21;01measydict\u001b[39;00m \u001b[38;5;28;01mimport\u001b[39;00m EasyDict \u001b[38;5;28;01mas\u001b[39;00m edict\n",
      "\u001b[0;31mModuleNotFoundError\u001b[0m: No module named 'easydict'"
     ]
    }
   ],
   "source": [
    "from easydict import EasyDict as edict"
   ]
  },
  {
   "cell_type": "code",
   "execution_count": 65,
   "metadata": {},
   "outputs": [
    {
     "name": "stdout",
     "output_type": "stream",
     "text": [
      "{'data_dir': './data/tsf_datasets', 'data_type': 'elec', 'seed': 0}\n",
      "<class 'dict'>\n"
     ]
    }
   ],
   "source": [
    "import argparse\n",
    "\n",
    "# from cfg_lstm import *\n",
    "from utils import *\n",
    "\n",
    "\n",
    "def parse_args():\n",
    "    parser = argparse.ArgumentParser(description=\"TSMixer for Time Series Forecasting\")\n",
    "    parser.add_argument(\"--seed\", type=int, default=0, help=\"random seed\")\n",
    "    parser.add_argument(\n",
    "        \"--data_dir\", type=str, default=\"./data/tsf_datasets\", help=\"set data directory\"\n",
    "    )\n",
    "    parser.add_argument(\"--data_type\", type=str, default=\"elec\", help=\"set data folder\")\n",
    "\n",
    "    args = parser.parse_args([])\n",
    "\n",
    "    return vars(args)\n",
    "\n",
    "\n",
    "# args\n",
    "args = parse_args()\n",
    "pprint(args)"
   ]
  },
  {
   "cell_type": "code",
   "execution_count": null,
   "metadata": {},
   "outputs": [],
   "source": [
    "# args = SimpleNamespace(**args_tsmixer)\n",
    "args = SimpleNamespace(**args_lstm)\n",
    "pprint(args)\n",
    "\n",
    "\n",
    "# print(cfg)\n",
    "# print(hp)\n",
    "def seed_everything(hash_para, add_hash_num=0):\n",
    "    if isinstance(hash_para, str):\n",
    "        seed = hash(hash_para) % 2**32 + add_hash_num\n",
    "    else:\n",
    "        seed = hash_para + add_hash_num\n",
    "\n",
    "    random.seed(seed)\n",
    "    os.environ[\"PYTHONHASHSEED\"] = str(seed)\n",
    "    np.random.seed(seed)\n",
    "    torch.manual_seed(seed)\n",
    "    torch.cuda.manual_seed(seed)\n",
    "    torch.backends.cudnn.deterministic = True\n",
    "    torch.backends.cudnn.benchmark = True\n",
    "\n",
    "    return seed\n",
    "\n",
    "\n",
    "SEED = seed_everything(args.filename)  # Seed 고정\n",
    "# load datasets\n",
    "# args = SimpleNamespace()"
   ]
  },
  {
   "cell_type": "code",
   "execution_count": 50,
   "metadata": {},
   "outputs": [
    {
     "name": "stdout",
     "output_type": "stream",
     "text": [
      "dir: ./data/base/electricity.csv\n",
      "target idx: 2\n"
     ]
    }
   ],
   "source": [
    "from data_provider import *\n",
    "\n",
    "tsfdataloader = TSFDataLoader(\n",
    "    args.filename,\n",
    "    args.batch_size,\n",
    "    args.seq_len,\n",
    "    args.pred_len,\n",
    "    args.feature_type,\n",
    "    args.target,\n",
    "    limit=[None, 1500],\n",
    "    print_option=False,\n",
    ")\n",
    "\n",
    "\n",
    "dataloaders = tsfdataloader.get_dataloaders()\n",
    "df = tsfdataloader.get_df()\n",
    "# print(y_batch)"
   ]
  },
  {
   "cell_type": "code",
   "execution_count": 54,
   "metadata": {},
   "outputs": [
    {
     "name": "stdout",
     "output_type": "stream",
     "text": [
      "namespace(filename='electricity',\n",
      "          seq_len=48,\n",
      "          pred_len=24,\n",
      "          batch_size=64,\n",
      "          feature_type='MS',\n",
      "          target='3',\n",
      "          model='tslstm',\n",
      "          norm_type='B',\n",
      "          activation='relu',\n",
      "          dropout=0.05,\n",
      "          n_block=2,\n",
      "          hidden_dims=[192],\n",
      "          output_dims=[128],\n",
      "          optim_name='Adam',\n",
      "          lossfn_name='MSE',\n",
      "          lr=0.001,\n",
      "          epochs=10,\n",
      "          options={'bidirectional': False},\n",
      "          n_feature=321)\n",
      "x_batch: torch.Size([64, 48, 321])\n",
      "y_batch: torch.Size([64, 24])\n",
      "n_feature:321\n",
      "pred: torch.Size([64, 24]) vs true: torch.Size([64, 24])\n"
     ]
    }
   ],
   "source": [
    "import models, losses\n",
    "import torch.optim as optim\n",
    "\n",
    "pprint(args)\n",
    "(x_batch, y_batch), n_feature, target_idx = tsfdataloader.get_data_info()\n",
    "args.n_feature = n_feature\n",
    "build_model = getattr(models, args.model).build_model\n",
    "model = build_model(\n",
    "    args.seq_len,\n",
    "    args.n_feature,\n",
    "    args.hidden_dims,\n",
    "    args.dropout,\n",
    "    args.n_block,\n",
    "    args.pred_len,\n",
    "    target_idx,\n",
    "    args.options,\n",
    ")\n",
    "optimizer = getattr(optim, args.optim_name)(model.parameters(), lr=args.lr)\n",
    "# print(model)\n",
    "# print(optimizer)\n",
    "y_pred = model(x_batch)\n",
    "print(f\"pred: {y_pred.shape} vs true: {y_batch.shape}\")\n",
    "\n",
    "loss_fn = losses.build_loss_fn(args.lossfn_name)\n",
    "# loss = loss_fn(y_pred, y_batch)\n",
    "# print(loss)"
   ]
  },
  {
   "cell_type": "code",
   "execution_count": 2,
   "metadata": {},
   "outputs": [
    {
     "ename": "NameError",
     "evalue": "name 'models' is not defined",
     "output_type": "error",
     "traceback": [
      "\u001b[0;31m---------------------------------------------------------------------------\u001b[0m",
      "\u001b[0;31mNameError\u001b[0m                                 Traceback (most recent call last)",
      "Cell \u001b[0;32mIn[2], line 35\u001b[0m\n\u001b[1;32m     31\u001b[0m     runner \u001b[38;5;241m=\u001b[39m runners\u001b[38;5;241m.\u001b[39mTSFRunner(run_equipment, epochs\u001b[38;5;241m=\u001b[39mepochs)\n\u001b[1;32m     32\u001b[0m     \u001b[38;5;28;01mreturn\u001b[39;00m runner\n\u001b[0;32m---> 35\u001b[0m runner \u001b[38;5;241m=\u001b[39m \u001b[43mprepare_experiment\u001b[49m\u001b[43m(\u001b[49m\u001b[43mepochs\u001b[49m\u001b[38;5;241;43m=\u001b[39;49m\u001b[38;5;241;43m20\u001b[39;49m\u001b[43m)\u001b[49m\n\u001b[1;32m     37\u001b[0m losses_df \u001b[38;5;241m=\u001b[39m runner\u001b[38;5;241m.\u001b[39mrun()\n",
      "Cell \u001b[0;32mIn[2], line 7\u001b[0m, in \u001b[0;36mprepare_experiment\u001b[0;34m(epochs)\u001b[0m\n\u001b[1;32m      5\u001b[0m \u001b[38;5;28;01mdef\u001b[39;00m \u001b[38;5;21mprepare_experiment\u001b[39m(epochs):\n\u001b[1;32m      6\u001b[0m     \u001b[38;5;66;03m# * declaration\u001b[39;00m\n\u001b[0;32m----> 7\u001b[0m     build_model \u001b[38;5;241m=\u001b[39m \u001b[38;5;28mgetattr\u001b[39m(\u001b[43mmodels\u001b[49m, args\u001b[38;5;241m.\u001b[39mmodel)\u001b[38;5;241m.\u001b[39mbuild_model\n\u001b[1;32m      8\u001b[0m     model \u001b[38;5;241m=\u001b[39m build_model(\n\u001b[1;32m      9\u001b[0m         args\u001b[38;5;241m.\u001b[39mseq_len,\n\u001b[1;32m     10\u001b[0m         args\u001b[38;5;241m.\u001b[39mn_feature,\n\u001b[0;32m   (...)\u001b[0m\n\u001b[1;32m     16\u001b[0m         args\u001b[38;5;241m.\u001b[39moptions,\n\u001b[1;32m     17\u001b[0m     )\n\u001b[1;32m     18\u001b[0m     optimizer \u001b[38;5;241m=\u001b[39m \u001b[38;5;28mgetattr\u001b[39m(optim, args\u001b[38;5;241m.\u001b[39moptim_name)(model\u001b[38;5;241m.\u001b[39mparameters(), lr\u001b[38;5;241m=\u001b[39margs\u001b[38;5;241m.\u001b[39mlr)\n",
      "\u001b[0;31mNameError\u001b[0m: name 'models' is not defined"
     ]
    }
   ],
   "source": [
    "import torch.optim as optim\n",
    "import runners\n",
    "\n",
    "\n",
    "def prepare_experiment(epochs):\n",
    "    # * declaration\n",
    "    build_model = getattr(models, args.model).build_model\n",
    "    model = build_model(\n",
    "        args.seq_len,\n",
    "        args.n_feature,\n",
    "        args.hidden_dims,\n",
    "        args.dropout,\n",
    "        args.n_block,\n",
    "        args.pred_len,\n",
    "        target_idx,\n",
    "        args.options,\n",
    "    )\n",
    "    optimizer = getattr(optim, args.optim_name)(model.parameters(), lr=args.lr)\n",
    "\n",
    "    loss_fn = losses.build_loss_fn(args.lossfn_name)\n",
    "\n",
    "    run_equipment = dict(\n",
    "        model=model,\n",
    "        optimizer=optimizer,\n",
    "        loss_fn=loss_fn,\n",
    "        dataloaders=dataloaders,\n",
    "        seed=SEED,\n",
    "        seq_len=args.seq_len,\n",
    "    )\n",
    "\n",
    "    runner = runners.TSFRunner(run_equipment, epochs=epochs)\n",
    "    return runner\n",
    "\n",
    "\n",
    "runner = prepare_experiment(epochs=20)\n",
    "\n",
    "losses_df = runner.run()"
   ]
  },
  {
   "cell_type": "code",
   "execution_count": null,
   "metadata": {},
   "outputs": [
    {
     "data": {
      "image/png": "[encoded data removed]",
      "text/plain": [
       "<Figure size 2000x600 with 1 Axes>"
      ]
     },
     "metadata": {},
     "output_type": "display_data"
    }
   ],
   "source": [
    "sns.lineplot(losses_df)\n",
    "plt.show()"
   ]
  },
  {
   "cell_type": "code",
   "execution_count": null,
   "metadata": {},
   "outputs": [],
   "source": []
  },
  {
   "cell_type": "code",
   "execution_count": null,
   "metadata": {},
   "outputs": [],
   "source": []
  },
  {
   "cell_type": "code",
   "execution_count": null,
   "metadata": {},
   "outputs": [],
   "source": []
  },
  {
   "cell_type": "code",
   "execution_count": null,
   "metadata": {},
   "outputs": [],
   "source": []
  },
  {
   "cell_type": "code",
   "execution_count": null,
   "metadata": {},
   "outputs": [],
   "source": []
  }
 ],
 "metadata": {
  "kernelspec": {
   "display_name": "main",
   "language": "python",
   "name": "python3"
  },
  "language_info": {
   "codemirror_mode": {
    "name": "ipython",
    "version": 3
   },
   "file_extension": ".py",
   "mimetype": "text/x-python",
   "name": "python",
   "nbconvert_exporter": "python",
   "pygments_lexer": "ipython3",
   "version": "3.11.5"
  }
 },
 "nbformat": 4,
 "nbformat_minor": 2
}
